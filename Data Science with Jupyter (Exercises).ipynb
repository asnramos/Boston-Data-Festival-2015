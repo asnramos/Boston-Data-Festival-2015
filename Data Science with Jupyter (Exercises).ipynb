{
 "cells": [
  {
   "cell_type": "markdown",
   "metadata": {},
   "source": [
    "<img src = http://i1377.photobucket.com/albums/ah57/drmingle1/Jupyter%20-%20Healthcare%20Data%20Science/BosDataFestival2015_zpsqpbcvzw8.png alt=\"Matrix\" style=\"width: 600px;\"/>\n",
    "\n",
    "\n",
    "# Finding Type II Diabetes In A Patient Population\n",
    "Given a year of EHR data for patients without Diabetes, we predict which patients will be diagnosed with Diabetes in the next year."
   ]
  },
  {
   "cell_type": "code",
   "execution_count": null,
   "metadata": {
    "collapsed": true
   },
   "outputs": [],
   "source": []
  }
 ],
 "metadata": {
  "kernelspec": {
   "display_name": "Python 3",
   "language": "python",
   "name": "python3"
  },
  "language_info": {
   "codemirror_mode": {
    "name": "ipython",
    "version": 3
   },
   "file_extension": ".py",
   "mimetype": "text/x-python",
   "name": "python",
   "nbconvert_exporter": "python",
   "pygments_lexer": "ipython3",
   "version": "3.4.3"
  }
 },
 "nbformat": 4,
 "nbformat_minor": 0
}
