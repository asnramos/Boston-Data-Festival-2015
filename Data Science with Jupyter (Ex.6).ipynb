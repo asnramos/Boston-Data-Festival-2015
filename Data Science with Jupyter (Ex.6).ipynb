{
 "cells": [
  {
   "cell_type": "markdown",
   "metadata": {},
   "source": [
    "<img src = http://i1377.photobucket.com/albums/ah57/drmingle1/Jupyter%20-%20Healthcare%20Data%20Science/BosDataFestival2015_zpsqpbcvzw8.png alt=\"Matrix\" style=\"width: 600px;\"/>\n",
    "\n",
    "\n",
    "# Finding Type II Diabetes In A Patient Population\n",
    "Given a year of EHR data for patients without Diabetes, we predict which patients will be diagnosed with Diabetes in the next year."
   ]
  },
  {
   "cell_type": "markdown",
   "metadata": {},
   "source": [
    "***************************\n",
    "#Excercise 6\n",
    "\n",
    "Choose between A and B.\n",
    "***************************"
   ]
  },
  {
   "cell_type": "markdown",
   "metadata": {},
   "source": [
    "**Data Scientist A**\n",
    "\n",
    "#PHASE VI: Deployment\n",
    "\n",
    "######Plan Deployment\n",
    "Takes the evaluation results and determines a strategy for deployment. \n",
    "\n",
    "Once leadership has approved the models that the data science department has built, we will work with IT to begin the process of integrating the models in the ACME healthcare processing pipeline. We will insure that the preprocessing steps we have developed is put into place. \n",
    "\n",
    "All modeling files are stored on the share drive. \n",
    " \n",
    "######Plan Monitoring and Maintenance\n",
    "\n",
    "**Monitor and Maintenance Plan**\n",
    "\n",
    "Since we cannot assume that the correct target feature value for a query instance will be made available shortly after the query has been presented to a deployed model, we will use the stability index. The stability index is an alternative to using the changing model performance by monitoring changes in the distribution of model output as a signal of concept drift. \n",
    "\n",
    "In order to compare distribution, we measure the distribution of model outputs on the test set that was used to orginally evaluate a model and hte repeat this measurment on new sets of query instances collected during periods after the model has been deployed. \n",
    "\n",
    "One of the most commonly used measures for this is the stability index. The stability index is calculate as:\n",
    "\n",
    "$$stability\\space index = \\sum_{l\\in levels(t)}^{}((\\frac{\\left |A_{t=l}\\right |}{\\left | A \\right |}-\\frac{\\left | B_{t=l} \\right |}{\\left | B \\right |})\\times log_{e}(\\frac{\\left | A_{t=l} \\right |}{\\left | A \\right |} / \\frac{\\left | B_{t=l} \\right |}{\\left | B \\right |}))$$\n",
    "\n",
    "where $$\\left | A \\right |$$ refers to the size of the test set on which performance measures were orginally calculated, \n",
    "\n",
    "$$\\left | A_{t=l} \\right |$$ \n",
    "\n",
    "refers to the number of instances in the original test set for which the model made a prediction of level $$l$$ for target $$t$$\n",
    "$$\\left | B \\right |$$ and $$\\left | B_{t=l} \\right |$$ refer to the same measurements on the newly collected dataset\n",
    "$$log_{e}$$ is the natural logarithm.\n",
    "\n",
    "* Other important points:\n",
    "    * If the value of the stability index is less than 0.1, then the distribution of the newly collected test set is broadly similar to the distribution oin the original test set. \n",
    "    * If the value of hte stability index is between 0.1 and 0.25, then some change has occured and further investigation may be useful.\n",
    "    * A stability index value greather than 0.25 suggests that a significant change has occured and corrective action is required. \n",
    "    \n",
    "We recommend an alert system be put in place and work with the above threshold so that an individual from the data science department could consider retraining the model.\n",
    "\n",
    "    \n",
    "######Produce Final Report\n",
    "**Final report & Presentation**\n",
    "We have archived a final comprehensive presentation of the data science results for this projct located on ***S:\\Data Science Projects\\Type II Diabetis***. This report includes all previous deliverables and summarizes the results.\n",
    "\n",
    "######Review Project\n",
    "* Experience documentation\n",
    "    * We gained more understanding of what it is like to coordinate with the IT department when they have ongoing engagements. We assumed they would be able to assist us in the data integration of all the various tables. However, they had prior engagements that pushed our request back 30-days. In the future, we will know what is required of them and confirm their availability. \n",
    "    * We only spent 5% of our time on feature engineering and feature selection combined - this was not sufficient. We would like to make modifications to our workflow to be able to spending 10% of our time on feature engineering and another 10% of our time on feature selection. Beyond the preprocessing of data we felt that this data science project really requires more attention to these areas. "
   ]
  },
  {
   "cell_type": "markdown",
   "metadata": {},
   "source": [
    "\n",
    "**===================================================================================================**"
   ]
  },
  {
   "cell_type": "markdown",
   "metadata": {},
   "source": [
    "**Data Scientist B**\n",
    "\n",
    "#PHASE VI: Deployment\n",
    "\n",
    "######Plan Deployment\n",
    "Takes the evaluation results and determines a strategy for deployment. \n",
    "\n",
    "1. Deployment plan\n",
    "    * Summarize the deployment strategy, including the necessary steps and how to perform them:\n",
    "    \n",
    "######Plan Monitoring and Maintenance\n",
    "Develop a careful monitoring and maintenance strategy.\n",
    "\n",
    "1. Monitoring and maintenance plan\n",
    "    * Summarize the monitoring and maintenance strategy, including the necessary steps and how to perform them.\n",
    "    \n",
    "######Produce Final Report\n",
    "This could be a final comprehensive presentatoin of the data science results or a summary of the project and its experiences.\n",
    "\n",
    "1. Final report\n",
    "    * A written report of the data science engagement. It includes all of the previous deliverables, summarizing and organizing the results:\n",
    "    \n",
    "2. Final presentation\n",
    "    * Results presented to the client:\n",
    "\n",
    "######Review Project\n",
    "Assess what went right and what went wrong, what was done well and what needs to be improved.\n",
    "\n",
    "1. Experience documentation\n",
    "    * Summarize important experience gained during the project (pitfalls, misleading approaches, or hints for selecting the data science techniques in similar situations could be part of this documentation):"
   ]
  }
 ],
 "metadata": {
  "kernelspec": {
   "display_name": "Python 3",
   "language": "python",
   "name": "python3"
  },
  "language_info": {
   "codemirror_mode": {
    "name": "ipython",
    "version": 3
   },
   "file_extension": ".py",
   "mimetype": "text/x-python",
   "name": "python",
   "nbconvert_exporter": "python",
   "pygments_lexer": "ipython3",
   "version": "3.4.3"
  }
 },
 "nbformat": 4,
 "nbformat_minor": 0
}
